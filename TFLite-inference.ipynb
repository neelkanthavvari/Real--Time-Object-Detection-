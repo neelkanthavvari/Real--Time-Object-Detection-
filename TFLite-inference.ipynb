{
 "cells": [
  {
   "cell_type": "code",
   "execution_count": null,
   "id": "eed17a0c",
   "metadata": {},
   "outputs": [],
   "source": [
    "!pip install face_detection_tflite-0.4.0-py3-none-any.whl"
   ]
  },
  {
   "cell_type": "code",
   "execution_count": null,
   "id": "af5bc540",
   "metadata": {},
   "outputs": [],
   "source": [
    "import numpy as np\n",
    "import tensorflow as tf\n",
    "import cv2\n",
    "import time\n",
    "print(tf.__version__)"
   ]
  },
  {
   "cell_type": "code",
   "execution_count": null,
   "id": "1878414b",
   "metadata": {},
   "outputs": [],
   "source": [
    "Model_Path = \"my_quant_model_tflite.tflite\"\n",
    "Video_path = \"car_chase_01.mp4\""
   ]
  },
  {
   "cell_type": "code",
   "execution_count": null,
   "id": "c0df0c09",
   "metadata": {},
   "outputs": [],
   "source": [
    "interpreter = tf.lite.Interpreter(model_path=Model_Path)\n",
    "interpreter.allocate_tensors()"
   ]
  },
  {
   "cell_type": "code",
   "execution_count": null,
   "id": "1383cb8e",
   "metadata": {},
   "outputs": [],
   "source": [
    "input_details = interpreter.get_input_details()\n",
    "output_details = interpreter.get_output_details()"
   ]
  },
  {
   "cell_type": "code",
   "execution_count": null,
   "id": "4dec0770",
   "metadata": {},
   "outputs": [],
   "source": [
    "class_names = ['person', 'bicycle', 'car', 'motorcycle', 'airplane','bus', 'train', 'truck', 'boat', 'traffic light',\n",
    "'fire hydrant ', 'stop sign', 'parking meter', 'bench', 'bird', 'cat', 'dog', 'horse', 'sheep', 'cow', 'elephant', 'bear',\n",
    "'zebra', 'giraffe', 'backpack', 'umbrella', 'handbag', 'tie', 'suitcase', 'frisbee', 'skis', 'snowboard', 'sports ball',\n",
    "'kite', 'baseball bat', 'baseball glove', 'skateboard', 'surfboard', 'tennis racket', 'bottle', 'wine glass', ' cup',\n",
    "'fork', 'knife', 'spoon', 'bowl', 'banana', 'apple', 'sandwich', 'orange', 'broccoli', 'carrot', 'hot dog', 'pizza',\n",
    "'donut', 'cake', 'chair', 'couch', 'potted plant', 'bed', 'dining table', 'toilet', 'tv', 'laptop', 'mouse', 'remote',\n",
    "'keyboard', ' cell phone', 'microwave', 'oven', 'toaster', 'sink', 'refrigerator', 'book', 'clock', 'vase', 'scissors',\n",
    "'teddy bear', 'hair drier', 'toothbrush']"
   ]
  },
  {
   "cell_type": "code",
   "execution_count": null,
   "id": "e167c949",
   "metadata": {},
   "outputs": [],
   "source": [
    "cap = cv2.VideoCapture(Video_path)\n",
    "ok, frame_image = cap.read()\n",
    "original_image_height, original_image_width, _ = frame_image.shape\n",
    "thickness = original_image_height // 500  \n",
    "fontsize = original_image_height / 1500\n",
    "print(thickness)\n",
    "print(fontsize)"
   ]
  },
  {
   "cell_type": "code",
   "execution_count": null,
   "id": "b4090e25",
   "metadata": {},
   "outputs": [],
   "source": [
    "while True:\n",
    "    ok, frame_image = cap.read()\n",
    "    if not ok:\n",
    "        break\n",
    "\n",
    "    model_interpreter_start_time = time.time()\n",
    "    resize_img = cv2.resize(frame_image, (300, 300), interpolation=cv2.INTER_CUBIC)\n",
    "    reshape_image = resize_img.reshape(300, 300, 3)\n",
    "    image_np_expanded = np.expand_dims(reshape_image, axis=0)\n",
    "    image_np_expanded = image_np_expanded.astype('uint8')  # float32\n",
    "\n",
    "    interpreter.set_tensor(input_details[0]['index'], image_np_expanded) \n",
    "    interpreter.invoke()\n",
    "\n",
    "    output_data = interpreter.get_tensor(output_details[0]['index'])\n",
    "    output_data_1 = interpreter.get_tensor(output_details[1]['index']) \n",
    "    output_data_2 = interpreter.get_tensor(output_details[2]['index'])\n",
    "    output_data_3 = interpreter.get_tensor(output_details[3]['index'])  \n",
    "    each_interpreter_time = time.time() - model_interpreter_start_time\n",
    "    print(each_interpreter_time)\n",
    "\n",
    "    for i in range(len(output_data_1[0])):\n",
    "        confidence_threshold = output_data_2[0][i]\n",
    "        if confidence_threshold > 0.3:\n",
    "            label = \"{}: {:.2f}% \".format(class_names[int(output_data_1[0][i])], output_data_2[0][i] * 100) \n",
    "            label2 = \"inference time : {:.3f}s\" .format(each_interpreter_time)\n",
    "            left_up_corner = (int(output_data[0][i][1]*original_image_width), int(output_data[0][i][0]*original_image_height))\n",
    "            left_up_corner_higher = (int(output_data[0][i][1]*original_image_width), int(output_data[0][i][0]*original_image_height)-20)\n",
    "            right_down_corner = (int(output_data[0][i][3]*original_image_width), int(output_data[0][i][2]*original_image_height))\n",
    "            cv2.rectangle(frame_image, left_up_corner_higher, right_down_corner, (0, 255, 0), thickness)\n",
    "            cv2.putText(frame_image, label, left_up_corner_higher, cv2.FONT_HERSHEY_DUPLEX, fontsize, (255, 255, 255), thickness=thickness)\n",
    "            cv2.putText(frame_image, label2, (30, 30), cv2.FONT_HERSHEY_DUPLEX, fontsize, (255, 255, 255), thickness=thickness)\n",
    "    cv2.namedWindow('detect_result', cv2.WINDOW_NORMAL)\n",
    "    cv2.resizeWindow('detect_result', 800, 600)\n",
    "    cv2.imshow(\"detect_result\", frame_image)\n",
    "    \n",
    "\n",
    "    key = cv2.waitKey(10) & 0xFF\n",
    "    if key == ord(\"q\"):\n",
    "        break\n",
    "    elif key == 32:\n",
    "        cv2.waitKey(0)\n",
    "        continue\n",
    "cap.release()\n",
    "cv2.destroyAllWindows()"
   ]
  },
  {
   "cell_type": "code",
   "execution_count": null,
   "id": "971af48d",
   "metadata": {},
   "outputs": [],
   "source": [
    "import numpy as np\n",
    "import tensorflow as tf\n",
    "\n",
    "# Load TFLite model and allocate tensors.\n",
    "interpreter = tf.lite.Interpreter(model_path=\"face_detection_back.tflite\")\n",
    "interpreter.allocate_tensors()\n",
    "\n",
    "# Get input and output tensors.\n",
    "input_details = interpreter.get_input_details()\n",
    "output_details = interpreter.get_output_details()\n",
    "\n",
    "# Test model on random input data.\n",
    "input_shape = input_details[0]['shape']\n",
    "input_data = np.array(np.random.random_sample(input_shape), dtype=np.float32)\n",
    "interpreter.set_tensor(input_details[0]['index'], input_data)\n",
    "\n",
    "interpreter.invoke()\n",
    "\n",
    "# The function `get_tensor()` returns a copy of the tensor data.\n",
    "# Use `tensor()` in order to get a pointer to the tensor.\n",
    "output_data = interpreter.get_tensor(output_details[0]['index'])\n",
    "np.shape(output_details)\n",
    "print(output_data)"
   ]
  },
  {
   "cell_type": "code",
   "execution_count": null,
   "id": "3c44693c",
   "metadata": {},
   "outputs": [],
   "source": []
  },
  {
   "cell_type": "code",
   "execution_count": null,
   "id": "575dc98a",
   "metadata": {},
   "outputs": [],
   "source": []
  }
 ],
 "metadata": {
  "kernelspec": {
   "display_name": "Python 3",
   "language": "python",
   "name": "python3"
  },
  "language_info": {
   "codemirror_mode": {
    "name": "ipython",
    "version": 3
   },
   "file_extension": ".py",
   "mimetype": "text/x-python",
   "name": "python",
   "nbconvert_exporter": "python",
   "pygments_lexer": "ipython3",
   "version": "3.8.8"
  }
 },
 "nbformat": 4,
 "nbformat_minor": 5
}
